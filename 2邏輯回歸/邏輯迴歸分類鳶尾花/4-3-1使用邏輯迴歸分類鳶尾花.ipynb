{
 "cells": [
  {
   "cell_type": "markdown",
   "metadata": {},
   "source": [
    "## 匯入資料"
   ]
  },
  {
   "cell_type": "code",
   "execution_count": 2,
   "metadata": {},
   "outputs": [
    {
     "data": {
      "text/html": [
       "<div>\n",
       "<style scoped>\n",
       "    .dataframe tbody tr th:only-of-type {\n",
       "        vertical-align: middle;\n",
       "    }\n",
       "\n",
       "    .dataframe tbody tr th {\n",
       "        vertical-align: top;\n",
       "    }\n",
       "\n",
       "    .dataframe thead th {\n",
       "        text-align: right;\n",
       "    }\n",
       "</style>\n",
       "<table border=\"1\" class=\"dataframe\">\n",
       "  <thead>\n",
       "    <tr style=\"text-align: right;\">\n",
       "      <th></th>\n",
       "      <th>sepal length (cm)</th>\n",
       "      <th>sepal width (cm)</th>\n",
       "      <th>petal length (cm)</th>\n",
       "      <th>petal width (cm)</th>\n",
       "      <th>target</th>\n",
       "    </tr>\n",
       "  </thead>\n",
       "  <tbody>\n",
       "    <tr>\n",
       "      <th>0</th>\n",
       "      <td>5.1</td>\n",
       "      <td>3.5</td>\n",
       "      <td>1.4</td>\n",
       "      <td>0.2</td>\n",
       "      <td>0</td>\n",
       "    </tr>\n",
       "    <tr>\n",
       "      <th>1</th>\n",
       "      <td>4.9</td>\n",
       "      <td>3.0</td>\n",
       "      <td>1.4</td>\n",
       "      <td>0.2</td>\n",
       "      <td>0</td>\n",
       "    </tr>\n",
       "    <tr>\n",
       "      <th>2</th>\n",
       "      <td>4.7</td>\n",
       "      <td>3.2</td>\n",
       "      <td>1.3</td>\n",
       "      <td>0.2</td>\n",
       "      <td>0</td>\n",
       "    </tr>\n",
       "    <tr>\n",
       "      <th>3</th>\n",
       "      <td>4.6</td>\n",
       "      <td>3.1</td>\n",
       "      <td>1.5</td>\n",
       "      <td>0.2</td>\n",
       "      <td>0</td>\n",
       "    </tr>\n",
       "    <tr>\n",
       "      <th>4</th>\n",
       "      <td>5.0</td>\n",
       "      <td>3.6</td>\n",
       "      <td>1.4</td>\n",
       "      <td>0.2</td>\n",
       "      <td>0</td>\n",
       "    </tr>\n",
       "  </tbody>\n",
       "</table>\n",
       "</div>"
      ],
      "text/plain": [
       "   sepal length (cm)  sepal width (cm)  petal length (cm)  petal width (cm)  \\\n",
       "0                5.1               3.5                1.4               0.2   \n",
       "1                4.9               3.0                1.4               0.2   \n",
       "2                4.7               3.2                1.3               0.2   \n",
       "3                4.6               3.1                1.5               0.2   \n",
       "4                5.0               3.6                1.4               0.2   \n",
       "\n",
       "   target  \n",
       "0       0  \n",
       "1       0  \n",
       "2       0  \n",
       "3       0  \n",
       "4       0  "
      ]
     },
     "execution_count": 2,
     "metadata": {},
     "output_type": "execute_result"
    }
   ],
   "source": [
    "from sklearn.datasets import load_iris\n",
    "import pandas as pd\n",
    "import numpy as np\n",
    "import matplotlib.pyplot as plt\n",
    "from matplotlib.colors import ListedColormap\n",
    "from sklearn.model_selection import train_test_split\n",
    "from sklearn.preprocessing import StandardScaler\n",
    "from sklearn.linear_model import LogisticRegression\n",
    "from sklearn.metrics import confusion_matrix\n",
    "iris = load_iris()\n",
    "X = pd.DataFrame(iris['data'], columns=iris['feature_names'])\n",
    "y = pd.DataFrame(iris['target'], columns=['target'])\n",
    "iris = pd.concat([X,y], axis=1)\n",
    "iris.head()"
   ]
  },
  {
   "cell_type": "markdown",
   "metadata": {},
   "source": [
    "## 檢查資料"
   ]
  },
  {
   "cell_type": "code",
   "execution_count": 3,
   "metadata": {},
   "outputs": [
    {
     "name": "stdout",
     "output_type": "stream",
     "text": [
      "0\n",
      "資料筆數: (150, 5)\n",
      "資料的欄位名稱，分別是: Index(['sepal length (cm)', 'sepal width (cm)', 'petal length (cm)',\n",
      "       'petal width (cm)', 'target'],\n",
      "      dtype='object')\n",
      "第一筆的資料內容: sepal length (cm)    5.1\n",
      "sepal width (cm)     3.5\n",
      "petal length (cm)    1.4\n",
      "petal width (cm)     0.2\n",
      "target               0.0\n",
      "Name: 0, dtype: float64\n",
      "第一筆的預測目標: 0\n"
     ]
    }
   ],
   "source": [
    "print(iris.isnull().values.sum())\n",
    "print(\"資料筆數:\", iris.shape)\n",
    "print(\"資料的欄位名稱，分別是:\", iris.keys())\n",
    "print(\"第一筆的資料內容:\", iris.iloc[0,::])\n",
    "print(\"第一筆的預測目標:\",iris['target'][0])\n"
   ]
  },
  {
   "cell_type": "markdown",
   "metadata": {},
   "source": [
    "## 製作鳶尾花的萼片、花瓣長度與鳶尾花種類的分布圖"
   ]
  },
  {
   "cell_type": "code",
   "execution_count": 4,
   "metadata": {},
   "outputs": [
    {
     "name": "stderr",
     "output_type": "stream",
     "text": [
      "*c* argument looks like a single numeric RGB or RGBA sequence, which should be avoided as value-mapping will have precedence in case its length matches with *x* & *y*.  Please use the *color* keyword-argument or provide a 2-D array with a single row if you intend to specify the same RGB or RGBA value for all points.\n",
      "*c* argument looks like a single numeric RGB or RGBA sequence, which should be avoided as value-mapping will have precedence in case its length matches with *x* & *y*.  Please use the *color* keyword-argument or provide a 2-D array with a single row if you intend to specify the same RGB or RGBA value for all points.\n",
      "*c* argument looks like a single numeric RGB or RGBA sequence, which should be avoided as value-mapping will have precedence in case its length matches with *x* & *y*.  Please use the *color* keyword-argument or provide a 2-D array with a single row if you intend to specify the same RGB or RGBA value for all points.\n"
     ]
    },
    {
     "data": {
      "image/png": "[encoded data removed]",
      "text/plain": [
       "<Figure size 432x288 with 1 Axes>"
      ]
     },
     "metadata": {
      "needs_background": "light"
     },
     "output_type": "display_data"
    }
   ],
   "source": [
    "plt.rcParams['font.sans-serif'] = ['Microsoft YaHei'] \n",
    "markers = ('o', '^', 'x')\n",
    "colors = ('red', 'green', 'blue')\n",
    "cmap = ListedColormap(colors[:len(np.unique(y))])\n",
    "y = iris['target'].values\n",
    "for i, t in enumerate(np.unique(y)):  \n",
    "    p = iris[y == t]\n",
    "    plt.scatter(x=p['sepal length (cm)'],  y=p['petal length (cm)'], c=cmap(i), marker=markers[i],  label=t)\n",
    "plt.xlabel('萼片長度')\n",
    "plt.ylabel('花瓣長度')\n",
    "plt.legend(loc='upper left')\n",
    "plt.tight_layout()\n",
    "plt.show()"
   ]
  },
  {
   "cell_type": "markdown",
   "metadata": {},
   "source": [
    "## 只使用兩種鳶尾花"
   ]
  },
  {
   "cell_type": "code",
   "execution_count": 5,
   "metadata": {},
   "outputs": [
    {
     "name": "stdout",
     "output_type": "stream",
     "text": [
      "1    50\n",
      "2    50\n",
      "Name: target, dtype: int64\n"
     ]
    }
   ],
   "source": [
    "iris = iris[['sepal length (cm)','petal length (cm)','target']]\n",
    "iris = iris[iris['target'].isin([1,2])] \n",
    "print(iris['target'].value_counts())"
   ]
  },
  {
   "cell_type": "markdown",
   "metadata": {},
   "source": [
    "## 分割資料與資料前處理"
   ]
  },
  {
   "cell_type": "code",
   "execution_count": 6,
   "metadata": {},
   "outputs": [
    {
     "name": "stdout",
     "output_type": "stream",
     "text": [
      "訓練集的維度大小:    (70, 2)\n",
      "測試集的維度大小:    (30, 2)\n"
     ]
    }
   ],
   "source": [
    "train_X, test_X, train_y, test_y = train_test_split(\n",
    "    iris[['sepal length (cm)','petal length (cm)']], iris[['target']], \n",
    "    test_size=0.3, random_state=0)\n",
    "sc = StandardScaler()\n",
    "train_X_std = sc.fit_transform(train_X)\n",
    "test_X_std = sc.fit_transform(test_X)\n",
    "print(\"訓練集的維度大小:   \", train_X_std.shape)\n",
    "print(\"測試集的維度大小:   \", test_X_std.shape)"
   ]
  },
  {
   "cell_type": "markdown",
   "metadata": {},
   "source": [
    "## 建立與訓練邏輯迴歸模型"
   ]
  },
  {
   "cell_type": "code",
   "execution_count": 7,
   "metadata": {
    "scrolled": true
   },
   "outputs": [
    {
     "name": "stdout",
     "output_type": "stream",
     "text": [
      "係數:  [[-0.34765442  3.24909418]]\n",
      "截距:  [0.23340114]\n"
     ]
    }
   ],
   "source": [
    "model = LogisticRegression()\n",
    "model.fit(train_X_std, train_y['target'])\n",
    "print ('係數: ', model.coef_)\n",
    "print ('截距: ',model.intercept_)"
   ]
  },
  {
   "cell_type": "markdown",
   "metadata": {},
   "source": [
    "## 預測模型"
   ]
  },
  {
   "cell_type": "code",
   "execution_count": 8,
   "metadata": {},
   "outputs": [
    {
     "name": "stdout",
     "output_type": "stream",
     "text": [
      "[1 2 1 2 2 2 1 2 2 2 2 2 2 1 1 1 2 1 2 1 1 2 1 2 1 1 1 2 2 1]\n",
      "[1 2 1 2 2 2 1 2 2 2 2 2 2 1 1 1 1 1 1 1 1 2 1 2 1 1 1 2 2 2]\n",
      "[[0.6013206  0.3986794 ]\n",
      " [0.04650697 0.95349303]\n",
      " [0.51803756 0.48196244]\n",
      " [0.00194219 0.99805781]\n",
      " [0.01632968 0.98367032]\n",
      " [0.01934199 0.98065801]\n",
      " [0.71668035 0.28331965]\n",
      " [0.43519795 0.56480205]\n",
      " [0.0241716  0.9758284 ]\n",
      " [0.22766104 0.77233896]\n",
      " [0.04650697 0.95349303]\n",
      " [0.2097249  0.7902751 ]\n",
      " [0.04902982 0.95097018]\n",
      " [0.60274214 0.39725786]\n",
      " [0.99488731 0.00511269]\n",
      " [0.97422994 0.02577006]\n",
      " [0.43519795 0.56480205]\n",
      " [0.8966359  0.1033641 ]\n",
      " [0.22870597 0.77129403]\n",
      " [0.74810837 0.25189163]\n",
      " [0.99516188 0.00483812]\n",
      " [0.08715444 0.91284556]\n",
      " [0.9450027  0.0549973 ]\n",
      " [0.34321352 0.65678648]\n",
      " [0.8971845  0.1028155 ]\n",
      " [0.99859267 0.00140733]\n",
      " [0.62898288 0.37101712]\n",
      " [0.21906756 0.78093244]\n",
      " [0.04902982 0.95097018]\n",
      " [0.51951877 0.48048123]]\n"
     ]
    }
   ],
   "source": [
    "print(model.predict(test_X_std))\n",
    "print(test_y['target'].values)\n",
    "print(model.predict_proba(test_X_std))"
   ]
  },
  {
   "cell_type": "code",
   "execution_count": 9,
   "metadata": {},
   "outputs": [
    {
     "name": "stdout",
     "output_type": "stream",
     "text": [
      "[[13  2]\n",
      " [ 1 14]]\n"
     ]
    }
   ],
   "source": [
    "cm = confusion_matrix(test_y['target'],model.predict(test_X_std))\n",
    "print(cm)"
   ]
  },
  {
   "cell_type": "markdown",
   "metadata": {},
   "source": [
    "## 繪製資料與邏輯迴歸分布圖"
   ]
  },
  {
   "cell_type": "code",
   "execution_count": 10,
   "metadata": {},
   "outputs": [
    {
     "name": "stderr",
     "output_type": "stream",
     "text": [
      "*c* argument looks like a single numeric RGB or RGBA sequence, which should be avoided as value-mapping will have precedence in case its length matches with *x* & *y*.  Please use the *color* keyword-argument or provide a 2-D array with a single row if you intend to specify the same RGB or RGBA value for all points.\n",
      "*c* argument looks like a single numeric RGB or RGBA sequence, which should be avoided as value-mapping will have precedence in case its length matches with *x* & *y*.  Please use the *color* keyword-argument or provide a 2-D array with a single row if you intend to specify the same RGB or RGBA value for all points.\n"
     ]
    },
    {
     "data": {
      "image/png": "[encoded data removed]",
      "text/plain": [
       "<Figure size 432x288 with 1 Axes>"
      ]
     },
     "metadata": {
      "needs_background": "light"
     },
     "output_type": "display_data"
    }
   ],
   "source": [
    "plt.rcParams['font.sans-serif'] = ['Microsoft YaHei']\n",
    "X = test_X_std\n",
    "y = test_y['target'].values\n",
    "markers = ('o', '^', 'x')\n",
    "colors = ('red', 'green', 'blue')\n",
    "cmap = ListedColormap(colors[:len(np.unique(y))])\n",
    "x0min, x0max = X[:, 0].min() - 1, X[:, 0].max() + 1\n",
    "x1min, x1max = X[:, 1].min() - 1, X[:, 1].max() + 1\n",
    "a, b = np.meshgrid(np.arange(x0min, x0max, 0.03), np.arange(x1min, x1max, 0.03)) \n",
    "Z = model.predict(np.array([a.ravel(), b.ravel()]).T) \n",
    "Z = Z.reshape(a.shape)\n",
    "plt.contourf(a, b, Z, alpha=0.3, cmap=cmap)\n",
    "plt.xlim(a.min(), a.max())\n",
    "plt.ylim(b.min(), b.max())\n",
    "for i, t in enumerate(np.unique(y)):  \n",
    "    p = X[y == t]\n",
    "    plt.scatter(x=p[:,0],  y=p[:,1], c=cmap(i), marker=markers[i],  label=t)\n",
    "plt.xlabel('萼片長度')\n",
    "plt.ylabel('花瓣長度')\n",
    "plt.legend(loc='upper left')\n",
    "plt.show()"
   ]
  },
  {
   "cell_type": "code",
   "execution_count": null,
   "metadata": {},
   "outputs": [],
   "source": []
  }
 ],
 "metadata": {
  "kernelspec": {
   "display_name": "Machine Learning38",
   "language": "python",
   "name": "ml38"
  },
  "language_info": {
   "codemirror_mode": {
    "name": "ipython",
    "version": 3
   },
   "file_extension": ".py",
   "mimetype": "text/x-python",
   "name": "python",
   "nbconvert_exporter": "python",
   "pygments_lexer": "ipython3",
   "version": "3.8.8"
  }
 },
 "nbformat": 4,
 "nbformat_minor": 2
}
