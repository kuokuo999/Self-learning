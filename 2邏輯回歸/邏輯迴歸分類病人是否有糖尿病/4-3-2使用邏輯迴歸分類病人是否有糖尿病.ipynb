{
 "cells": [
  {
   "cell_type": "markdown",
   "metadata": {},
   "source": [
    "## 匯入資料"
   ]
  },
  {
   "cell_type": "code",
   "execution_count": 57,
   "metadata": {
    "scrolled": true
   },
   "outputs": [
    {
     "name": "stdout",
     "output_type": "stream",
     "text": [
      "   patient_number  cholesterol  glucose  hdl_chol chol_hdl_ratio  age  gender  \\\n",
      "0               1          193       77        49            3,9   19  female   \n",
      "1               2          146       79        41            3,6   19  female   \n",
      "2               3          217       75        54              4   20  female   \n",
      "3               4          226       97        70            3,2   20  female   \n",
      "4               5          164       91        67            2,4   20  female   \n",
      "\n",
      "   height  weight   bmi  systolic_bp  diastolic_bp  waist  hip  \\\n",
      "0      61     119  22,5          118            70     32   38   \n",
      "1      60     135  26,4          108            58     33   40   \n",
      "2      67     187  29,3          110            72     40   45   \n",
      "3      64     114  19,6          122            64     31   39   \n",
      "4      70     141  20,2          122            86     32   39   \n",
      "\n",
      "  waist_hip_ratio     diabetes  \n",
      "0            0,84  No diabetes  \n",
      "1            0,83  No diabetes  \n",
      "2            0,89  No diabetes  \n",
      "3            0,79  No diabetes  \n",
      "4            0,82  No diabetes  \n"
     ]
    }
   ],
   "source": [
    "import pandas as pd\n",
    "import numpy as np\n",
    "import matplotlib.pyplot as plt\n",
    "import seaborn as sns\n",
    "from matplotlib.colors import ListedColormap\n",
    "from sklearn.model_selection import train_test_split\n",
    "from sklearn.preprocessing import LabelEncoder, StandardScaler\n",
    "from sklearn.linear_model import LogisticRegression\n",
    "from sklearn.metrics import confusion_matrix\n",
    "df = pd.read_csv('E:/data/diabetes.csv')\n",
    "print(df.head())"
   ]
  },
  {
   "cell_type": "markdown",
   "metadata": {},
   "source": [
    "## 檢查資料"
   ]
  },
  {
   "cell_type": "code",
   "execution_count": 58,
   "metadata": {
    "scrolled": true
   },
   "outputs": [
    {
     "name": "stdout",
     "output_type": "stream",
     "text": [
      "0\n",
      "資料筆數: (390, 16)\n",
      "資料的欄位名稱，分別是: Index(['patient_number', 'cholesterol', 'glucose', 'hdl_chol',\n",
      "       'chol_hdl_ratio', 'age', 'gender', 'height', 'weight', 'bmi',\n",
      "       'systolic_bp', 'diastolic_bp', 'waist', 'hip', 'waist_hip_ratio',\n",
      "       'diabetes'],\n",
      "      dtype='object')\n",
      "第一筆的資料內容: patient_number               1\n",
      "cholesterol                193\n",
      "glucose                     77\n",
      "hdl_chol                    49\n",
      "chol_hdl_ratio             3,9\n",
      "age                         19\n",
      "gender                  female\n",
      "height                      61\n",
      "weight                     119\n",
      "bmi                       22,5\n",
      "systolic_bp                118\n",
      "diastolic_bp                70\n",
      "waist                       32\n",
      "hip                         38\n",
      "waist_hip_ratio           0,84\n",
      "diabetes           No diabetes\n",
      "Name: 0, dtype: object\n",
      "第一筆的預測目標: No diabetes\n"
     ]
    }
   ],
   "source": [
    "print(df.isnull().values.sum())\n",
    "print(\"資料筆數:\", df.shape)\n",
    "print(\"資料的欄位名稱，分別是:\", df.keys())\n",
    "print(\"第一筆的資料內容:\", df.iloc[0,::])\n",
    "print(\"第一筆的預測目標:\", df['diabetes'][0])"
   ]
  },
  {
   "cell_type": "markdown",
   "metadata": {},
   "source": [
    "## 處理缺值"
   ]
  },
  {
   "cell_type": "code",
   "execution_count": 59,
   "metadata": {},
   "outputs": [
    {
     "name": "stdout",
     "output_type": "stream",
     "text": [
      "No diabetes    330\n",
      "Diabetes        60\n",
      "Name: diabetes, dtype: int64\n",
      "   patient_number  cholesterol  glucose  hdl_chol  chol_hdl_ratio  age  \\\n",
      "0               1          193       77        49             3.9   19   \n",
      "1               2          146       79        41             3.6   19   \n",
      "2               3          217       75        54             4.0   20   \n",
      "3               4          226       97        70             3.2   20   \n",
      "4               5          164       91        67             2.4   20   \n",
      "\n",
      "   gender  height  weight   bmi  systolic_bp  diastolic_bp  waist  hip  \\\n",
      "0  female      61     119  22.5          118            70     32   38   \n",
      "1  female      60     135  26.4          108            58     33   40   \n",
      "2  female      67     187  29.3          110            72     40   45   \n",
      "3  female      64     114  19.6          122            64     31   39   \n",
      "4  female      70     141  20.2          122            86     32   39   \n",
      "\n",
      "   waist_hip_ratio  diabetes  \n",
      "0             0.84         0  \n",
      "1             0.83         0  \n",
      "2             0.89         0  \n",
      "3             0.79         0  \n",
      "4             0.82         0  \n"
     ]
    }
   ],
   "source": [
    "print(df[\"diabetes\"].value_counts())\n",
    "df[\"diabetes\"] = np.where(df[\"diabetes\"]==\"Diabetes\" , 1, 0) \n",
    "df['chol_hdl_ratio'] = pd.to_numeric(pd.Series(df['chol_hdl_ratio']).str.replace(',','.'))\n",
    "df['bmi'] = pd.to_numeric(pd.Series(df['bmi']).str.replace(',','.'))\n",
    "df['waist_hip_ratio'] = pd.to_numeric(pd.Series(df['waist_hip_ratio']).str.replace(',','.'))\n",
    "print(df.head())"
   ]
  },
  {
   "cell_type": "markdown",
   "metadata": {},
   "source": [
    "## 製作gender、waist與糖尿病的統計圖"
   ]
  },
  {
   "cell_type": "code",
   "execution_count": 60,
   "metadata": {},
   "outputs": [
    {
     "data": {
      "image/png": "[encoded data removed]",
      "text/plain": [
       "<Figure size 432x288 with 1 Axes>"
      ]
     },
     "metadata": {
      "needs_background": "light"
     },
     "output_type": "display_data"
    },
    {
     "data": {
      "image/png": "[encoded data removed]",
      "text/plain": [
       "<Figure size 432x288 with 1 Axes>"
      ]
     },
     "metadata": {
      "needs_background": "light"
     },
     "output_type": "display_data"
    }
   ],
   "source": [
    "sns.countplot(x='diabetes',hue='gender',data=df)\n",
    "plt.show()\n",
    "sns.countplot(x='diabetes',hue='waist',data=df)\n",
    "plt.show()"
   ]
  },
  {
   "cell_type": "markdown",
   "metadata": {},
   "source": [
    "## 分割資料與資料前處理"
   ]
  },
  {
   "cell_type": "code",
   "execution_count": 61,
   "metadata": {},
   "outputs": [
    {
     "name": "stdout",
     "output_type": "stream",
     "text": [
      "訓練集的維度大小:    (312, 15)\n",
      "測試集的維度大小:    (78, 15)\n"
     ]
    }
   ],
   "source": [
    "X = df.drop(['diabetes'], axis=1)\n",
    "LE = LabelEncoder()\n",
    "X['gender'] = LE.fit_transform(X['gender'])\n",
    "y = df['diabetes']\n",
    "train_X, test_X, train_y, test_y = train_test_split(X, y, test_size=0.2, random_state=42)\n",
    "sc = StandardScaler()\n",
    "train_X_std = sc.fit_transform(train_X)\n",
    "test_X_std = sc.fit_transform(test_X)\n",
    "print(\"訓練集的維度大小:   \", train_X_std.shape)\n",
    "print(\"測試集的維度大小:   \", test_X_std.shape)"
   ]
  },
  {
   "cell_type": "markdown",
   "metadata": {},
   "source": [
    "## 建立與訓練邏輯迴歸模型"
   ]
  },
  {
   "cell_type": "code",
   "execution_count": 62,
   "metadata": {
    "scrolled": true
   },
   "outputs": [
    {
     "name": "stdout",
     "output_type": "stream",
     "text": [
      "係數:  [[ 0.6765593   0.40287677  1.61299712 -0.29108643  0.00443387 -0.01000824\n",
      "  -0.00429495 -0.20742432  0.21296016 -0.02867317  0.134784    0.07744963\n",
      "   0.02087917  0.10473845 -0.00971382]]\n",
      "截距:  [-2.69176917]\n"
     ]
    }
   ],
   "source": [
    "model = LogisticRegression()\n",
    "model.fit(train_X_std, train_y)\n",
    "print ('係數: ', model.coef_)\n",
    "print ('截距: ',model.intercept_)"
   ]
  },
  {
   "cell_type": "markdown",
   "metadata": {},
   "source": [
    "## 使用模型進行預估"
   ]
  },
  {
   "cell_type": "code",
   "execution_count": 63,
   "metadata": {},
   "outputs": [
    {
     "name": "stdout",
     "output_type": "stream",
     "text": [
      "[0 0 0 1 1 1 0 1 0 0 0 0 0 0 0 0 0 0 0 1 0 0 0 0 0 0 0 0 0 1 0 0 1 0 1 0 0\n",
      " 0 0 0 0 1 0 0 0 0 0 0 0 0 1 1 0 0 0 0 0 0 0 0 0 1 0 1 0 0 0 0 0 0 0 0 0 0\n",
      " 0 0 0 1]\n",
      "9      0\n",
      "42     0\n",
      "33     0\n",
      "311    1\n",
      "272    1\n",
      "      ..\n",
      "381    1\n",
      "3      0\n",
      "18     0\n",
      "94     0\n",
      "338    0\n",
      "Name: diabetes, Length: 78, dtype: int32\n",
      "0.8717948717948718\n"
     ]
    }
   ],
   "source": [
    "print(model.predict(test_X_std))\n",
    "print(test_y)\n",
    "print(model.score(test_X_std, test_y))"
   ]
  },
  {
   "cell_type": "code",
   "execution_count": 64,
   "metadata": {},
   "outputs": [
    {
     "name": "stdout",
     "output_type": "stream",
     "text": [
      "[[58  4]\n",
      " [ 6 10]]\n"
     ]
    }
   ],
   "source": [
    "cm = confusion_matrix(test_y,model.predict(test_X_std))\n",
    "print(cm)"
   ]
  }
 ],
 "metadata": {
  "kernelspec": {
   "display_name": "Machine Learning38",
   "language": "python",
   "name": "ml38"
  },
  "language_info": {
   "codemirror_mode": {
    "name": "ipython",
    "version": 3
   },
   "file_extension": ".py",
   "mimetype": "text/x-python",
   "name": "python",
   "nbconvert_exporter": "python",
   "pygments_lexer": "ipython3",
   "version": "3.8.8"
  }
 },
 "nbformat": 4,
 "nbformat_minor": 2
}
