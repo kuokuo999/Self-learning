{
 "cells": [
  {
   "cell_type": "markdown",
   "metadata": {},
   "source": [
    "# 短指令辨識"
   ]
  },
  {
   "cell_type": "markdown",
   "metadata": {},
   "source": [
    "## 載入相關套件"
   ]
  },
  {
   "cell_type": "code",
   "execution_count": 1,
   "metadata": {},
   "outputs": [],
   "source": [
    "# 載入相關套件\n",
    "import pandas as pd\n",
    "import numpy as np\n",
    "import matplotlib.pyplot as plt\n",
    "import librosa\n",
    "import librosa.display\n",
    "import os\n",
    "import pathlib\n",
    "import csv"
   ]
  },
  {
   "cell_type": "code",
   "execution_count": 2,
   "metadata": {},
   "outputs": [],
   "source": [
    "# 不顯示警告訊息\n",
    "import warnings\n",
    "warnings.filterwarnings('ignore')"
   ]
  },
  {
   "cell_type": "markdown",
   "metadata": {},
   "source": [
    "## 載入檔案"
   ]
  },
  {
   "cell_type": "code",
   "execution_count": 3,
   "metadata": {},
   "outputs": [
    {
     "name": "stdout",
     "output_type": "stream",
     "text": [
      "['bed.npy', 'cat.npy', 'happy.npy']\n",
      "(1713, 16000)\n",
      "(1733, 16000)\n",
      "(1742, 16000)\n"
     ]
    }
   ],
   "source": [
    "# 載入npy檔案\n",
    "train_audio_path2 = './GoogleSpeechCommandsDataset/'\n",
    "npy_files = [f for f in os.listdir(train_audio_path2) if f.endswith('.npy')]\n",
    "print(npy_files)\n",
    "all_wave = []\n",
    "y = []\n",
    "no=0\n",
    "for i, label in enumerate(npy_files):\n",
    "    class_wave = np.load(train_audio_path2+label)\n",
    "    all_wave.append(class_wave)\n",
    "    print(class_wave.shape)\n",
    "    no+=class_wave.shape[0]\n",
    "    y.extend(np.full(class_wave.shape[0], i))   "
   ]
  },
  {
   "cell_type": "code",
   "execution_count": 4,
   "metadata": {},
   "outputs": [
    {
     "name": "stdout",
     "output_type": "stream",
     "text": [
      "(5188, 40, 32, 1) 5188\n"
     ]
    }
   ],
   "source": [
    "# 計算 MFCC\n",
    "MFCC_COUNT = 40\n",
    "X = None\n",
    "for class_wave in all_wave:\n",
    "    for data in class_wave:\n",
    "        mfcc = librosa.feature.mfcc(y=data, sr=len(data), n_mfcc=MFCC_COUNT)\n",
    "        # print(data.shape, mfcc.shape)\n",
    "        if X is None:\n",
    "            X = mfcc.reshape(1, MFCC_COUNT, -1, 1)\n",
    "        else:\n",
    "            X = np.concatenate((X, mfcc.reshape(1, MFCC_COUNT, -1, 1)), axis=0)\n",
    "    # print(X.shape) \n",
    "print(X.shape, len(y))"
   ]
  },
  {
   "cell_type": "code",
   "execution_count": 42,
   "metadata": {},
   "outputs": [
    {
     "data": {
      "text/plain": [
       "((4150, 40, 32, 1), (1038, 40, 32, 1))"
      ]
     },
     "execution_count": 42,
     "metadata": {},
     "output_type": "execute_result"
    }
   ],
   "source": [
    "# 資料切割\n",
    "from sklearn.model_selection import train_test_split\n",
    "y = np.array(y)\n",
    "X_train, X_test, y_train, y_test = train_test_split(X, y, test_size=.2)\n",
    "X_train.shape, X_test.shape"
   ]
  },
  {
   "cell_type": "code",
   "execution_count": 44,
   "metadata": {},
   "outputs": [
    {
     "data": {
      "text/plain": [
       "((4150, 1280), (1038, 1280))"
      ]
     },
     "execution_count": 44,
     "metadata": {},
     "output_type": "execute_result"
    }
   ],
   "source": [
    "# X_train = X_train.squeeze()\n",
    "# X_test = X_test.squeeze()\n",
    "# X_train = X_train.mean(axis=2)\n",
    "# X_test = X_test.mean(axis=2)\n",
    "X_train = X_train.reshape(X_train.shape[0], -1)\n",
    "X_test = X_test.reshape(X_test.shape[0], -1)\n",
    "X_train.shape, X_test.shape"
   ]
  },
  {
   "cell_type": "code",
   "execution_count": 46,
   "metadata": {},
   "outputs": [
    {
     "data": {
      "text/plain": [
       "0.9344894026974951"
      ]
     },
     "execution_count": 46,
     "metadata": {},
     "output_type": "execute_result"
    }
   ],
   "source": [
    "# SVM 模型\n",
    "from sklearn.svm import SVC\n",
    "from sklearn.decomposition import PCA\n",
    "\n",
    "pca = PCA(n_components=128)\n",
    "X_train = pca.fit_transform(X_train)\n",
    "X_test = pca.transform(X_test)\n",
    "\n",
    "model = SVC(probability=True)\n",
    "model.fit(X_train, y_train)\n",
    "model.score(X_test, y_test)"
   ]
  },
  {
   "cell_type": "code",
   "execution_count": 47,
   "metadata": {},
   "outputs": [
    {
     "data": {
      "text/plain": [
       "['bed', 'cat', 'happy']"
      ]
     },
     "execution_count": 47,
     "metadata": {},
     "output_type": "execute_result"
    }
   ],
   "source": [
    "# 取得子目錄名稱\n",
    "train_audio_path = './GoogleSpeechCommandsDataset/data/'\n",
    "labels=os.listdir(train_audio_path)\n",
    "labels"
   ]
  },
  {
   "cell_type": "code",
   "execution_count": 80,
   "metadata": {},
   "outputs": [],
   "source": [
    "# 預測函數\n",
    "TOTAL_FRAME_COUNT = 16000 # 每個檔案統一的幀數\n",
    "def predict(file_path):\n",
    "    samples, sr = librosa.load(file_path, sr=None, res_type='kaiser_fast')\n",
    "    # 繪製波形\n",
    "    librosa.display.waveplot(samples, sr)\n",
    "    plt.show()\n",
    "    \n",
    "    # 右邊補 0\n",
    "    if len(samples) < TOTAL_FRAME_COUNT : \n",
    "        samples = np.pad(samples,(0, TOTAL_FRAME_COUNT-len(samples)),'constant')\n",
    "    elif len(samples) > TOTAL_FRAME_COUNT : \n",
    "        # 取中間一段\n",
    "        oversize = len(samples) - TOTAL_FRAME_COUNT\n",
    "        samples = samples[int(oversize/2):int(oversize/2)+TOTAL_FRAME_COUNT]\n",
    "\n",
    "    # 繪製波形\n",
    "#     librosa.display.waveplot(samples, sr)\n",
    "#     plt.show()\n",
    "\n",
    "    # 驗證 mfcc 是否需要標準化\n",
    "    mfcc = librosa.feature.mfcc(y=samples, sr=sr, n_mfcc=MFCC_COUNT)\n",
    "#     for i in range(mfcc.shape[1]):\n",
    "#         plt.scatter(x=range(mfcc.shape[0]), y=mfcc[:, i].reshape(-1))\n",
    "    X_pred = mfcc.reshape(1, mfcc.shape[0]*mfcc.shape[1])\n",
    "    # print(X_pred.shape)\n",
    "    X_pred = pca.transform(X_pred)\n",
    "    \n",
    "    # 預測\n",
    "    prob = model.predict_proba(X_pred)\n",
    "    return np.around(prob, 2), labels[np.argmax(prob)]"
   ]
  },
  {
   "cell_type": "code",
   "execution_count": 81,
   "metadata": {},
   "outputs": [
    {
     "data": {
      "image/png": "[encoded data removed]",
      "text/plain": [
       "<Figure size 432x288 with 1 Axes>"
      ]
     },
     "metadata": {
      "needs_background": "light"
     },
     "output_type": "display_data"
    },
    {
     "data": {
      "text/plain": [
       "(array([[0.88, 0.03, 0.1 ]]), 'bed')"
      ]
     },
     "execution_count": 81,
     "metadata": {},
     "output_type": "execute_result"
    }
   ],
   "source": [
    "# 任選一檔案測試，該檔案發音為 bed\n",
    "train_audio_path = './GoogleSpeechCommandsDataset/data/'\n",
    "predict(train_audio_path+'bed/0d2bcf9d_nohash_0.wav')"
   ]
  },
  {
   "cell_type": "code",
   "execution_count": 82,
   "metadata": {},
   "outputs": [
    {
     "data": {
      "image/png": "[encoded data removed]",
      "text/plain": [
       "<Figure size 432x288 with 1 Axes>"
      ]
     },
     "metadata": {
      "needs_background": "light"
     },
     "output_type": "display_data"
    },
    {
     "data": {
      "text/plain": [
       "(array([[0.01, 0.93, 0.07]]), 'cat')"
      ]
     },
     "execution_count": 82,
     "metadata": {},
     "output_type": "execute_result"
    }
   ],
   "source": [
    "# 任選一檔案測試，該檔案發音為 cat\n",
    "predict(train_audio_path+'cat/0ac15fe9_nohash_0.wav')"
   ]
  },
  {
   "cell_type": "code",
   "execution_count": 83,
   "metadata": {},
   "outputs": [
    {
     "data": {
      "image/png": "[encoded data removed]",
      "text/plain": [
       "<Figure size 432x288 with 1 Axes>"
      ]
     },
     "metadata": {
      "needs_background": "light"
     },
     "output_type": "display_data"
    },
    {
     "data": {
      "text/plain": [
       "(array([[0.03, 0.01, 0.95]]), 'happy')"
      ]
     },
     "execution_count": 83,
     "metadata": {},
     "output_type": "execute_result"
    }
   ],
   "source": [
    "# 任選一檔案測試，該檔案發音為 happy\n",
    "predict(train_audio_path+'happy/0ab3b47d_nohash_0.wav')"
   ]
  },
  {
   "cell_type": "markdown",
   "metadata": {},
   "source": [
    "## 自行使用 14_10_record.py 錄音，指令：\n",
    "python 14_10_record.py GoogleSpeechCommandsDataset/happy2.wav"
   ]
  },
  {
   "cell_type": "code",
   "execution_count": 84,
   "metadata": {
    "scrolled": false
   },
   "outputs": [
    {
     "data": {
      "image/png": "[encoded data removed]",
      "text/plain": [
       "<Figure size 432x288 with 1 Axes>"
      ]
     },
     "metadata": {
      "needs_background": "light"
     },
     "output_type": "display_data"
    },
    {
     "data": {
      "text/plain": [
       "(array([[0.18, 0.19, 0.62]]), 'happy')"
      ]
     },
     "execution_count": 84,
     "metadata": {},
     "output_type": "execute_result"
    }
   ],
   "source": [
    "# 測試，該檔案發音為 happy\n",
    "predict('./GoogleSpeechCommandsDataset/happy.wav')"
   ]
  },
  {
   "cell_type": "code",
   "execution_count": 85,
   "metadata": {},
   "outputs": [
    {
     "data": {
      "image/png": "[encoded data removed]",
      "text/plain": [
       "<Figure size 432x288 with 1 Axes>"
      ]
     },
     "metadata": {
      "needs_background": "light"
     },
     "output_type": "display_data"
    },
    {
     "data": {
      "text/plain": [
       "(array([[0.08, 0.91, 0.02]]), 'cat')"
      ]
     },
     "execution_count": 85,
     "metadata": {},
     "output_type": "execute_result"
    }
   ],
   "source": [
    "# 測試，該檔案發音為 cat\n",
    "predict('./GoogleSpeechCommandsDataset/cat.wav')"
   ]
  },
  {
   "cell_type": "code",
   "execution_count": 86,
   "metadata": {},
   "outputs": [
    {
     "data": {
      "image/png": "[encoded data removed]",
      "text/plain": [
       "<Figure size 432x288 with 1 Axes>"
      ]
     },
     "metadata": {
      "needs_background": "light"
     },
     "output_type": "display_data"
    },
    {
     "data": {
      "text/plain": [
       "(array([[0.15, 0.  , 0.85]]), 'happy')"
      ]
     },
     "execution_count": 86,
     "metadata": {},
     "output_type": "execute_result"
    }
   ],
   "source": [
    "# 測試，該檔案發音為 bed\n",
    "predict('./GoogleSpeechCommandsDataset/bed.wav')"
   ]
  },
  {
   "cell_type": "code",
   "execution_count": null,
   "metadata": {},
   "outputs": [],
   "source": []
  }
 ],
 "metadata": {
  "kernelspec": {
   "display_name": "Python 3",
   "language": "python",
   "name": "python3"
  },
  "language_info": {
   "codemirror_mode": {
    "name": "ipython",
    "version": 3
   },
   "file_extension": ".py",
   "mimetype": "text/x-python",
   "name": "python",
   "nbconvert_exporter": "python",
   "pygments_lexer": "ipython3",
   "version": "3.8.3"
  }
 },
 "nbformat": 4,
 "nbformat_minor": 1
}
