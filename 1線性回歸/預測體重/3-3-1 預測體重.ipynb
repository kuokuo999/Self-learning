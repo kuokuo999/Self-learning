{
 "cells": [
  {
   "cell_type": "markdown",
   "metadata": {},
   "source": [
    "## 匯入資料"
   ]
  },
  {
   "cell_type": "code",
   "execution_count": 17,
   "metadata": {},
   "outputs": [
    {
     "name": "stdout",
     "output_type": "stream",
     "text": [
      "   Height  Weight\n",
      "0    1.47   52.21\n",
      "1    1.50   53.12\n",
      "2    1.52   54.48\n",
      "3    1.55   55.84\n",
      "4    1.57   57.20\n"
     ]
    }
   ],
   "source": [
    "from sklearn.linear_model import LinearRegression\n",
    "from sklearn.model_selection import train_test_split\n",
    "from sklearn.metrics import mean_squared_error\n",
    "import pandas as pd   \n",
    "df = pd.read_csv(\"E:\\data\\data.csv\")\n",
    "print(df.head())"
   ]
  },
  {
   "cell_type": "markdown",
   "metadata": {},
   "source": [
    "Understanding the Data\n",
    "FuelConsumption.csv:\n",
    "We have downloaded a fuel consumption dataset, FuelConsumption.csv, which contains model-specific fuel consumption ratings and estimated carbon dioxide emissions for new light-duty vehicles for retail sale in Canada. Dataset source\n",
    "MODELYEAR e.g. 2014\n",
    "MAKE e.g. Acura\n",
    "MODEL e.g. ILX\n",
    "VEHICLE CLASS e.g. SUV\n",
    "ENGINE SIZE e.g. 4.7\n",
    "CYLINDERS e.g 6\n",
    "TRANSMISSION e.g. A6\n",
    "FUEL CONSUMPTION in CITY(L/100 km) e.g. 9.9\n",
    "FUEL CONSUMPTION in HWY (L/100 km) e.g. 8.9\n",
    "FUEL CONSUMPTION COMB (L/100 km) e.g. 9.2\n",
    "CO2 EMISSIONS (g/km) e.g. 182 --> low --> 0"
   ]
  },
  {
   "cell_type": "markdown",
   "metadata": {},
   "source": [
    "## 檢查資料"
   ]
  },
  {
   "cell_type": "code",
   "execution_count": 18,
   "metadata": {},
   "outputs": [
    {
     "name": "stdout",
     "output_type": "stream",
     "text": [
      "0\n",
      "資料筆數: (15, 2)\n",
      "資料的欄位名稱，分別是: Index(['Height', 'Weight'], dtype='object')\n",
      "第一筆的資料內容: Height     1.47\n",
      "Weight    52.21\n",
      "Name: 0, dtype: float64\n",
      "第一筆的預測目標: 52.21\n"
     ]
    }
   ],
   "source": [
    "print(df.isnull().values.sum())  #檢查整張DataFrame有幾個NaN\n",
    "print(\"資料筆數:\", df.shape)\n",
    "print(\"資料的欄位名稱，分別是:\", df.keys())\n",
    "print(\"第一筆的資料內容:\", df.iloc[0,::])\n",
    "print(\"第一筆的預測目標:\",df['Weight'][0])"
   ]
  },
  {
   "cell_type": "markdown",
   "metadata": {},
   "source": [
    "## 繪製身高與體重的關係圖"
   ]
  },
  {
   "cell_type": "code",
   "execution_count": 19,
   "metadata": {},
   "outputs": [
    {
     "data": {
      "image/png": "[encoded data removed]",
      "text/plain": [
       "<Figure size 432x288 with 1 Axes>"
      ]
     },
     "metadata": {
      "needs_background": "light"
     },
     "output_type": "display_data"
    }
   ],
   "source": [
    "import matplotlib.pyplot as plt\n",
    "plt.rcParams['font.sans-serif'] = ['Microsoft YaHei'] \n",
    "plt.scatter(df.Height, df.Weight,  color='blue')\n",
    "plt.xlabel(\"身高\")\n",
    "plt.ylabel(\"體重\")\n",
    "plt.show()"
   ]
  },
  {
   "cell_type": "markdown",
   "metadata": {},
   "source": [
    "## 取資料表內數值資料進行線性回歸"
   ]
  },
  {
   "cell_type": "code",
   "execution_count": 20,
   "metadata": {},
   "outputs": [
    {
     "name": "stdout",
     "output_type": "stream",
     "text": [
      "原始資料集的維度大小: (15, 2)\n",
      "訓練集的維度大小:    (12, 1)\n",
      "測試集的維度大小:    (3, 1)\n"
     ]
    }
   ],
   "source": [
    "X = df.drop('Weight', axis=1)\n",
    "y = df['Weight']\n",
    "train_X, test_X, train_y, test_y = train_test_split(X, y, test_size=0.2, random_state=42)\n",
    "print(\"原始資料集的維度大小:\", df.shape)\n",
    "print(\"訓練集的維度大小:   \", train_X.shape)\n",
    "print(\"測試集的維度大小:   \", test_X.shape)"
   ]
  },
  {
   "cell_type": "code",
   "execution_count": 21,
   "metadata": {},
   "outputs": [
    {
     "name": "stdout",
     "output_type": "stream",
     "text": [
      "Coefficients:  [63.13171913]\n",
      "Intercept:  -42.178608958837785\n"
     ]
    }
   ],
   "source": [
    "model = LinearRegression()  #使用線性回歸模型\n",
    "model.fit(train_X, train_y)  #將訓練資料train_X與train_y放入\n",
    "print ('Coefficients: ', model.coef_)\n",
    "print ('Intercept: ',model.intercept_)"
   ]
  },
  {
   "cell_type": "code",
   "execution_count": 22,
   "metadata": {},
   "outputs": [
    {
     "name": "stdout",
     "output_type": "stream",
     "text": [
      "MSE: 1.0029930838678223\n"
     ]
    }
   ],
   "source": [
    "pred = model.predict(test_X) #將test_x輸入模型進行預測，儲存到pred\n",
    "score = mean_squared_error(pred, test_y)  #比較模型預測結果pred與實際結果test_y的MSE\n",
    "print(\"MSE:\", score)"
   ]
  },
  {
   "cell_type": "markdown",
   "metadata": {},
   "source": [
    "## 繪製身高與體重散布圖與線性迴歸分析圖"
   ]
  },
  {
   "cell_type": "code",
   "execution_count": 23,
   "metadata": {},
   "outputs": [
    {
     "data": {
      "image/png": "[encoded data removed]",
      "text/plain": [
       "<Figure size 432x288 with 1 Axes>"
      ]
     },
     "metadata": {
      "needs_background": "light"
     },
     "output_type": "display_data"
    }
   ],
   "source": [
    "import matplotlib.pyplot as plt\n",
    "plt.rcParams['font.sans-serif'] = ['Microsoft YaHei'] \n",
    "plt.scatter(X, y,  color='blue')\n",
    "plt.plot(test_X, pred, c=\"red\")\n",
    "plt.xlabel(\"身高\")\n",
    "plt.ylabel(\"體重\")\n",
    "plt.show()"
   ]
  },
  {
   "cell_type": "code",
   "execution_count": null,
   "metadata": {},
   "outputs": [],
   "source": []
  }
 ],
 "metadata": {
  "kernelspec": {
   "display_name": "Machine Learning38",
   "language": "python",
   "name": "ml38"
  },
  "language_info": {
   "codemirror_mode": {
    "name": "ipython",
    "version": 3
   },
   "file_extension": ".py",
   "mimetype": "text/x-python",
   "name": "python",
   "nbconvert_exporter": "python",
   "pygments_lexer": "ipython3",
   "version": "3.8.8"
  }
 },
 "nbformat": 4,
 "nbformat_minor": 4
}
