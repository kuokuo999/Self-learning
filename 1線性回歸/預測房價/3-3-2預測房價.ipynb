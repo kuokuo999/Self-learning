{
 "cells": [
  {
   "cell_type": "markdown",
   "metadata": {},
   "source": [
    "## 匯入資料"
   ]
  },
  {
   "cell_type": "code",
   "execution_count": 50,
   "metadata": {},
   "outputs": [
    {
     "name": "stdout",
     "output_type": "stream",
     "text": [
      "           id        date     price  bedrooms  bathrooms  sqft_living  \\\n",
      "0  7129300520  10/13/2014  221900.0         3       1.00         1180   \n",
      "1  6414100192   12/9/2014  538000.0         3       2.25         2570   \n",
      "2  5631500400   2/25/2015  180000.0         2       1.00          770   \n",
      "3  2487200875   12/9/2014  604000.0         4       3.00         1960   \n",
      "4  1954400510   2/18/2015  510000.0         3       2.00         1680   \n",
      "\n",
      "   sqft_lot  floors  waterfront  view  ...  grade  sqft_above  sqft_basement  \\\n",
      "0      5650     1.0           0     0  ...      7        1180              0   \n",
      "1      7242     2.0           0     0  ...      7        2170            400   \n",
      "2     10000     1.0           0     0  ...      6         770              0   \n",
      "3      5000     1.0           0     0  ...      7        1050            910   \n",
      "4      8080     1.0           0     0  ...      8        1680              0   \n",
      "\n",
      "   yr_built  yr_renovated  zipcode      lat     long  sqft_living15  \\\n",
      "0      1955             0    98178  47.5112 -122.257           1340   \n",
      "1      1951          1991    98125  47.7210 -122.319           1690   \n",
      "2      1933             0    98028  47.7379 -122.233           2720   \n",
      "3      1965             0    98136  47.5208 -122.393           1360   \n",
      "4      1987             0    98074  47.6168 -122.045           1800   \n",
      "\n",
      "   sqft_lot15  \n",
      "0        5650  \n",
      "1        7639  \n",
      "2        8062  \n",
      "3        5000  \n",
      "4        7503  \n",
      "\n",
      "[5 rows x 21 columns]\n"
     ]
    }
   ],
   "source": [
    "from sklearn.datasets import load_boston\n",
    "from sklearn.linear_model import LinearRegression\n",
    "from sklearn.model_selection import train_test_split\n",
    "from sklearn.metrics import mean_squared_error\n",
    "import pandas as pd\n",
    "import matplotlib.pyplot as plt\n",
    "df = pd.read_csv(\"E:/data/kc_house_data.csv\")\n",
    "print(df.head())"
   ]
  },
  {
   "cell_type": "markdown",
   "metadata": {},
   "source": [
    "## 檢查資料"
   ]
  },
  {
   "cell_type": "code",
   "execution_count": 51,
   "metadata": {},
   "outputs": [
    {
     "name": "stdout",
     "output_type": "stream",
     "text": [
      "0\n",
      "資料筆數: (21597, 21)\n",
      "資料的欄位名稱，分別是: Index(['id', 'date', 'price', 'bedrooms', 'bathrooms', 'sqft_living',\n",
      "       'sqft_lot', 'floors', 'waterfront', 'view', 'condition', 'grade',\n",
      "       'sqft_above', 'sqft_basement', 'yr_built', 'yr_renovated', 'zipcode',\n",
      "       'lat', 'long', 'sqft_living15', 'sqft_lot15'],\n",
      "      dtype='object')\n",
      "第一筆的資料內容: id               7129300520\n",
      "date             10/13/2014\n",
      "price                221900\n",
      "bedrooms                  3\n",
      "bathrooms                 1\n",
      "sqft_living            1180\n",
      "sqft_lot               5650\n",
      "floors                    1\n",
      "waterfront                0\n",
      "view                      0\n",
      "condition                 3\n",
      "grade                     7\n",
      "sqft_above             1180\n",
      "sqft_basement             0\n",
      "yr_built               1955\n",
      "yr_renovated              0\n",
      "zipcode               98178\n",
      "lat                 47.5112\n",
      "long               -122.257\n",
      "sqft_living15          1340\n",
      "sqft_lot15             5650\n",
      "Name: 0, dtype: object\n",
      "第一筆的預測目標: 221900.0\n"
     ]
    }
   ],
   "source": [
    "print(df.isnull().values.sum())\n",
    "print(\"資料筆數:\", df.shape)\n",
    "print(\"資料的欄位名稱，分別是:\", df.keys())\n",
    "print(\"第一筆的資料內容:\", df.iloc[0,::])\n",
    "print(\"第一筆的預測目標:\",df['price'][0])"
   ]
  },
  {
   "cell_type": "code",
   "execution_count": 52,
   "metadata": {},
   "outputs": [
    {
     "name": "stderr",
     "output_type": "stream",
     "text": [
      "<ipython-input-52-058a00c8dafe>:1: UserWarning: Pandas doesn't allow columns to be created via a new attribute name - see https://pandas.pydata.org/pandas-docs/stable/indexing.html#attribute-access\n",
      "  df.age = 2021 - df.yr_built\n"
     ]
    },
    {
     "data": {
      "image/png": "[encoded data removed]",
      "text/plain": [
       "<Figure size 432x288 with 1 Axes>"
      ]
     },
     "metadata": {
      "needs_background": "light"
     },
     "output_type": "display_data"
    },
    {
     "data": {
      "image/png": "[encoded data removed]",
      "text/plain": [
       "<Figure size 432x288 with 1 Axes>"
      ]
     },
     "metadata": {
      "needs_background": "light"
     },
     "output_type": "display_data"
    }
   ],
   "source": [
    "df.age = 2021 - df.yr_built\n",
    "plt.rcParams['font.sans-serif'] = ['Microsoft YaHei'] \n",
    "plt.scatter(df.bedrooms, df.price,  color='blue')\n",
    "plt.xlabel(\"房間數\")\n",
    "plt.ylabel(\"房價\")\n",
    "plt.show()\n",
    "plt.scatter(df.age, df.price,  color='red')\n",
    "plt.xlabel(\"屋齡\")\n",
    "plt.ylabel(\"房價\")\n",
    "plt.show()"
   ]
  },
  {
   "cell_type": "markdown",
   "metadata": {},
   "source": [
    "## 整理資料"
   ]
  },
  {
   "cell_type": "code",
   "execution_count": 53,
   "metadata": {
    "scrolled": true
   },
   "outputs": [
    {
     "name": "stdout",
     "output_type": "stream",
     "text": [
      "原始資料集的維度大小: (21597, 21)\n",
      "訓練集的維度大小:    (17277, 14)\n",
      "測試集的維度大小:    (4320, 14)\n"
     ]
    }
   ],
   "source": [
    "X = df.drop(['price','id','date','yr_built','zipcode','lat','long'],axis=1)\n",
    "y = df['price']/10000\n",
    "train_X, test_X, train_y, test_y = train_test_split(X, y, test_size=0.2, random_state=42, shuffle=True)\n",
    "print(\"原始資料集的維度大小:\", df.shape)\n",
    "print(\"訓練集的維度大小:   \", train_X.shape)\n",
    "print(\"測試集的維度大小:   \", test_X.shape)"
   ]
  },
  {
   "cell_type": "markdown",
   "metadata": {},
   "source": [
    "## 建立與訓練模型"
   ]
  },
  {
   "cell_type": "code",
   "execution_count": 54,
   "metadata": {
    "scrolled": false
   },
   "outputs": [
    {
     "name": "stdout",
     "output_type": "stream",
     "text": [
      "係數:  [-3.78781857e+00 -1.52864509e+00  1.32665058e-02 -6.70149400e-07\n",
      "  3.31320065e-02  5.60464239e+01  5.59216385e+00  6.02040596e+00\n",
      "  1.03865655e+01  4.93186184e-03  8.33464398e-03  7.30975626e-03\n",
      "  1.78478257e-03 -8.14708424e-05]\n",
      "截距:  -73.70388037004294\n"
     ]
    }
   ],
   "source": [
    "model = LinearRegression()  #使用線性回歸模型\n",
    "model.fit(train_X, train_y)  #使用訓練資料train_X與train_y訓練模組\n",
    "print ('係數: ', model.coef_)\n",
    "print ('截距: ',model.intercept_)"
   ]
  },
  {
   "cell_type": "markdown",
   "metadata": {},
   "source": [
    "## 模型預測"
   ]
  },
  {
   "cell_type": "code",
   "execution_count": 55,
   "metadata": {},
   "outputs": [
    {
     "name": "stdout",
     "output_type": "stream",
     "text": [
      "MSE: 522.1628411374705\n"
     ]
    }
   ],
   "source": [
    "pred = model.predict(test_X) #將test_X輸入模型進行預測，儲存到pred\n",
    "score = mean_squared_error(pred, test_y)  #比較模型預測結果pred與實際結果test_y的MSE\n",
    "print(\"MSE:\", score)"
   ]
  },
  {
   "cell_type": "markdown",
   "metadata": {},
   "source": [
    "## 使用房間數進行線性迴歸"
   ]
  },
  {
   "cell_type": "code",
   "execution_count": 56,
   "metadata": {},
   "outputs": [
    {
     "name": "stdout",
     "output_type": "stream",
     "text": [
      "訓練集的維度大小:    (17277, 1)\n",
      "測試集的維度大小:    (4320, 1)\n",
      "係數:  [12.86822909]\n",
      "截距:  10.723024284123177\n",
      "MSE: 1202.5261806707208\n"
     ]
    }
   ],
   "source": [
    "train_X_RM = train_X.loc[:, ['bedrooms']] \n",
    "test_X_RM  = test_X.loc[ :, ['bedrooms']] \n",
    "model2 = LinearRegression()   \n",
    "model2.fit(train_X_RM, train_y)\n",
    "print(\"訓練集的維度大小:   \", train_X_RM.shape)\n",
    "print(\"測試集的維度大小:   \", test_X_RM.shape)\n",
    "print ('係數: ', model2.coef_)\n",
    "print ('截距: ',model2.intercept_)\n",
    "pred = model2.predict(test_X_RM)\n",
    "score = mean_squared_error(pred, test_y)\n",
    "print(\"MSE:\", score)"
   ]
  },
  {
   "cell_type": "code",
   "execution_count": null,
   "metadata": {},
   "outputs": [],
   "source": []
  }
 ],
 "metadata": {
  "kernelspec": {
   "display_name": "Python 3",
   "language": "python",
   "name": "python3"
  },
  "language_info": {
   "codemirror_mode": {
    "name": "ipython",
    "version": 3
   },
   "file_extension": ".py",
   "mimetype": "text/x-python",
   "name": "python",
   "nbconvert_exporter": "python",
   "pygments_lexer": "ipython3",
   "version": "3.8.5"
  }
 },
 "nbformat": 4,
 "nbformat_minor": 4
}
